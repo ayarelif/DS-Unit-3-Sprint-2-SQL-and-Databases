{
 "cells": [
  {
   "cell_type": "code",
   "execution_count": 9,
   "metadata": {},
   "outputs": [],
   "source": [
    "import os\n",
    "import sqlite3"
   ]
  },
  {
   "cell_type": "code",
   "execution_count": 10,
   "metadata": {},
   "outputs": [],
   "source": [
    "DB_FILEPATH = \"rpg_db.sqlite3\""
   ]
  },
  {
   "cell_type": "code",
   "execution_count": 11,
   "metadata": {},
   "outputs": [
    {
     "name": "stdout",
     "output_type": "stream",
     "text": [
      "CONNECTION: <sqlite3.Connection object at 0x000001A6BFE22A80>\n"
     ]
    }
   ],
   "source": [
    "connection = sqlite3.connect(DB_FILEPATH)\n",
    "print(\"CONNECTION:\", connection)"
   ]
  },
  {
   "cell_type": "code",
   "execution_count": 12,
   "metadata": {},
   "outputs": [
    {
     "name": "stdout",
     "output_type": "stream",
     "text": [
      "<sqlite3.Cursor object at 0x000001A6C0013960>\n"
     ]
    }
   ],
   "source": [
    "cursor = connection.cursor()\n",
    "print(cursor)"
   ]
  },
  {
   "cell_type": "code",
   "execution_count": 19,
   "metadata": {},
   "outputs": [
    {
     "name": "stdout",
     "output_type": "stream",
     "text": [
      "[(302, 302)]\n"
     ]
    }
   ],
   "source": [
    "# 1) How many total Characters are there?\n",
    "\n",
    "query_1='''\n",
    "SELECT\n",
    "  COUNT(character_id),\n",
    "  COUNT(DISTINCT character_id)\n",
    "FROM charactercreator_character;\n",
    "'''\n",
    "result=cursor.execute(query_1).fetchall()\n",
    "print(result)"
   ]
  },
  {
   "cell_type": "markdown",
   "metadata": {},
   "source": [
    "type(result)"
   ]
  },
  {
   "cell_type": "markdown",
   "metadata": {},
   "source": [
    "\n",
    "2) How many of each specific subclass?\n",
    "\n",
    "There are 6 subclasses under Characters"
   ]
  },
  {
   "cell_type": "code",
   "execution_count": 24,
   "metadata": {},
   "outputs": [
    {
     "name": "stdout",
     "output_type": "stream",
     "text": [
      "[(174, 174)]\n"
     ]
    }
   ],
   "source": [
    "# 3) How many total Items?\n",
    "query_3='''\n",
    "SELECT\n",
    "  COUNT(item_id),\n",
    "  COUNT(DISTINCT item_id)\n",
    "FROM armory_item;\n",
    "\n",
    "'''\n",
    "result=cursor.execute(query_3).fetchall()\n",
    "print(result)"
   ]
  },
  {
   "cell_type": "code",
   "execution_count": 22,
   "metadata": {},
   "outputs": [
    {
     "name": "stdout",
     "output_type": "stream",
     "text": [
      "[(37,)]\n"
     ]
    }
   ],
   "source": [
    "# 4) How many of the Items are weapons? \n",
    "query_4='''\n",
    "SELECT \n",
    "  COUNT(armory_weapon.power)\n",
    "FROM armory_item \n",
    "INNER JOIN armory_weapon\n",
    "ON armory_item.item_id=armory_weapon.item_ptr_id;\n",
    "'''\n",
    "result=cursor.execute(query_4).fetchall()\n",
    "print(result)"
   ]
  },
  {
   "cell_type": "code",
   "execution_count": 25,
   "metadata": {},
   "outputs": [
    {
     "name": "stdout",
     "output_type": "stream",
     "text": [
      "[(1, 'Libero facere dolore, as', None, None), (2, 'Qui', None, None), (3, 'Laborios', None, None), (4, 'Quibusdam illo deserunt ea', None, None), (5, 'Quod eveniet i', None, None), (6, 'Qui odio beata', None, None), (7, 'Omnis', None, None), (8, 'Saepe ea vo', None, None), (9, 'Vel illo sed', None, None), (10, 'Pariatur hic iste m', None, None), (11, 'Eum illo expedita', None, None), (12, 'Laudantium recusand', None, None), (13, 'Molesti', None, None), (14, 'Veniam fuga n', None, None), (15, 'Animi molestias possimus nihil', None, None), (16, 'Assu', None, None), (17, 'Officiis', None, None), (18, 'Consectetur deleniti cupi', None, None), (19, 'Explicabo', None, None), (20, 'Dolores rem v', None, None), (21, 'Sit rerum err', None, None), (22, 'Sapiente numquam qu', None, None), (23, 'Nam ab illum culpa corporis fu', None, None), (24, 'Blanditiis obcaecat', None, None), (25, 'Ex', None, None), (26, 'Assumenda nam i', None, None), (27, 'Distinctio mini', None, None), (28, 'Impedit libero id modi eos vol', None, None), (29, 'In p', None, None), (30, 'Possimus quae elig', None, None), (31, 'Vitae nulla praesentium magnam', None, None), (32, 'Ipsam placeat e', None, None), (33, 'Corporis ani', None, None), (34, 'Eius cum quis', None, None), (35, 'Suscip', None, None), (36, 'Soluta consequatur dolore', None, None), (37, 'Perferendis corr', None, None), (38, 'Reprehen', None, None), (39, 'Eveniet impedi', None, None), (40, 'Accusamus reprehenderit beata', None, None), (41, 'Beatae do', None, None), (42, 'Error maiores nulla', None, None), (43, 'Tempore', None, None), (44, 'Culpa nemo vol', None, None), (45, 'Repellat iusto quam reprehen', None, None), (46, 'Exp', None, None), (47, 'Animi dolor at est', None, None), (48, 'Labore a consecte', None, None), (49, 'Sed quo corpor', None, None), (50, 'Officia asperiores obcaecati d', None, None), (51, 'Ipsam', None, None), (52, 'Molestiae veniam', None, None), (53, 'Perferendis repudiandae labo', None, None), (54, 'Similique totam quasi ipsa ex', None, None), (55, 'Velit voluptatem', None, None), (56, 'Harum voluptatum ius', None, None), (57, 'Ex libero soluta', None, None), (58, 'Quos re', None, None), (59, 'Deleniti quas explica', None, None), (60, 'Porro molliti', None, None), (61, 'Enim laboriosam quae', None, None), (62, 'Natus rem repellat quas assum', None, None), (63, 'Quasi re', None, None), (64, 'Laudantium c', None, None), (65, 'Quos blanditiis nost', None, None), (66, 'Quisquam ut cupiditate', None, None), (67, 'Eaque nemo velit nece', None, None), (68, 'Repudiandae', None, None), (69, 'Minus illum vo', None, None), (70, 'Minus repell', None, None), (71, 'Quia quasi labo', None, None), (72, 'Eligendi fuga mol', None, None), (73, 'Beatae ita', None, None), (74, 'Quo sunt laudantium al', None, None), (75, 'Ist', None, None), (76, 'Voluptatem laborum dicta cum', None, None), (77, 'Corporis obcaecati ven', None, None), (78, 'Neque quae eum dign', None, None), (79, 'Dolorem quam neque, amet cum e', None, None), (80, 'Rem expedit', None, None), (81, 'Est sapiente iusto minus quam', None, None), (82, 'Atque laudantium dolor q', None, None), (83, 'Accusan', None, None), (84, 'Consectetur error o', None, None), (85, 'Alias laboriosam sapiente e', None, None), (86, 'Doloribus animi perspiciatis', None, None), (87, 'Hic possimus qua', None, None), (88, 'Unde quaerat tenetur', None, None), (89, 'Facere reprehenderit v', None, None), (90, 'Aperiam consequuntu', None, None), (91, 'Quis expedita ip', None, None), (92, 'Ea vel deserunt aspernat', None, None), (93, 'Natus', None, None), (94, 'Optio iusto laboriosam te', None, None), (95, 'Laborios', None, None), (96, 'Commodi deserunt in illo', None, None), (97, 'Ad numquam dicta cons', None, None), (98, 'Aliquid aliquam velit reru', None, None), (99, 'Facere q', None, None), (100, 'Incidunt libero assumen', None, None), (101, 'Earum suscipit ea voluptates i', None, None), (102, 'Sint dolorum', None, None), (103, 'Incidunt fugiat ea, ea', None, None), (104, 'Molestiae r', None, None), (105, 'Voluptatem labore laboriosa', None, None), (106, 'Et ducimus cumque aut perspic', None, None), (107, 'Corrupti ap', None, None), (108, 'Perferendis nesciunt quae dolo', None, None), (109, 'Sunt doloremque recusanda', None, None), (110, 'Deleniti similique obc', None, None), (111, 'Numquam tempor', None, None), (112, 'Quibusdam deleniti quasi provi', None, None), (113, 'Accusamus exercitat', None, None), (114, 'Error eveniet ipsum, expedi', None, None), (115, 'Sapiente do', None, None), (116, 'Fuga necessitatibus', None, None), (117, 'Nam excepturi placeat asperna', None, None), (118, 'Dolore fugit itaq', None, None), (119, 'Beatae ve', None, None), (120, 'Blanditiis corporis exerci', None, None), (121, 'Nesciunt quia nobi', None, None), (122, 'Quisquam e', None, None), (123, 'Illo q', None, None), (124, 'Repellat voluptates ea,', None, None), (125, 'Labore architecto tempora d', None, None), (126, 'Porro impedit enim earum nam n', None, None), (127, 'Evenie', None, None), (128, 'Similique do', None, None), (129, 'Quos voluptates at n', None, None), (130, 'Neq', None, None), (131, 'Neq', None, None), (132, 'Optio dolore itaque', None, None), (133, 'Libero saepe accusantium', None, None), (134, 'Illum nequ', None, None), (135, 'Culpa accusantium fugit id', None, None), (136, 'Fugit pariatur vero nesciu', None, None), (137, 'Numqu', None, None), (138, 'Corrupti sit at cum', 138, 0), (139, 'Est fugit incidunt co', 139, 0), (140, 'Quos nihil quibusdam', 140, 0), (141, 'Sit quidem tempora doloribus r', 141, 0), (142, 'Amet vel distinctio mo', 142, 0), (143, 'Illum eaque atque recusand', 143, 0), (144, 'Dignissi', 144, 0), (145, 'Corporis fug', 145, 0), (146, 'Sequi nesciunt', 146, 0), (147, 'Facere neque qu', 147, 0), (148, 'Corporis voluptas provi', 148, 0), (149, 'Repella', 149, 0), (150, 'Culpa cumque quo vel', 150, 0), (151, 'Magni totam q', 151, 0), (152, 'Illu', 152, 0), (153, 'Sit quibusdam ab, enim in ex', 153, 0), (154, 'Consequuntur at earum d', 154, 0), (155, 'Voluptatum doloremque to', 155, 0), (156, 'Expedita nam est in l', 156, 0), (157, 'Repelle', 157, 0), (158, 'Sit numqu', 158, 0), (159, 'Ipsum sit praesentium cum ame', 159, 0), (160, 'Totam delectus sed fugiat o', 160, 0), (161, 'Doloremq', 161, 0), (162, 'Id reprehenderit ullam rat', 162, 0), (163, 'Dignissimos dolo', 163, 0), (164, 'Inventore re', 164, 0), (165, 'Nemo expl', 165, 0), (166, 'Distinctio tene', 166, 0), (167, 'Recusandae fug', 167, 0), (168, 'Officiis illo cum acc', 168, 0), (169, 'Repudiandae molestias be', 169, 0), (170, 'Iure nob', 170, 0), (171, 'Ea dolor exercitation', 171, 0), (172, 'Omnis maxime deserunt', 172, 0), (173, 'Eum error eveni', 173, 0), (174, 'Atque repudiandae molestiae v', 174, 0)]\n"
     ]
    }
   ],
   "source": [
    "# not weapon\n",
    "query_4='''\n",
    "SELECT \n",
    "  armory_item.item_id,\n",
    "  armory_item.name,\n",
    "  armory_weapon.item_ptr_id,\n",
    "  armory_weapon.power\n",
    "FROM armory_item \n",
    "LEFT JOIN armory_weapon\n",
    "ON armory_item.item_id=armory_weapon.item_ptr_id;\n",
    "'''\n",
    "result=cursor.execute(query_4).fetchall()\n",
    "print(result)"
   ]
  },
  {
   "cell_type": "code",
   "execution_count": 31,
   "metadata": {},
   "outputs": [],
   "source": [
    "import pandas as pd\n",
    "#get columns from cursor object\n",
    "\n",
    "columns=list(map(lambda x:x[0],cursor.description))"
   ]
  },
  {
   "cell_type": "code",
   "execution_count": 32,
   "metadata": {},
   "outputs": [
    {
     "name": "stdout",
     "output_type": "stream",
     "text": [
      "(302, 2)\n"
     ]
    },
    {
     "data": {
      "text/html": [
       "<div>\n",
       "<style scoped>\n",
       "    .dataframe tbody tr th:only-of-type {\n",
       "        vertical-align: middle;\n",
       "    }\n",
       "\n",
       "    .dataframe tbody tr th {\n",
       "        vertical-align: top;\n",
       "    }\n",
       "\n",
       "    .dataframe thead th {\n",
       "        text-align: right;\n",
       "    }\n",
       "</style>\n",
       "<table border=\"1\" class=\"dataframe\">\n",
       "  <thead>\n",
       "    <tr style=\"text-align: right;\">\n",
       "      <th></th>\n",
       "      <th>COUNT(DISTINCT item_id)</th>\n",
       "      <th>character_id</th>\n",
       "    </tr>\n",
       "  </thead>\n",
       "  <tbody>\n",
       "    <tr>\n",
       "      <th>0</th>\n",
       "      <td>3</td>\n",
       "      <td>1</td>\n",
       "    </tr>\n",
       "    <tr>\n",
       "      <th>1</th>\n",
       "      <td>3</td>\n",
       "      <td>2</td>\n",
       "    </tr>\n",
       "    <tr>\n",
       "      <th>2</th>\n",
       "      <td>2</td>\n",
       "      <td>3</td>\n",
       "    </tr>\n",
       "    <tr>\n",
       "      <th>3</th>\n",
       "      <td>4</td>\n",
       "      <td>4</td>\n",
       "    </tr>\n",
       "    <tr>\n",
       "      <th>4</th>\n",
       "      <td>4</td>\n",
       "      <td>5</td>\n",
       "    </tr>\n",
       "  </tbody>\n",
       "</table>\n",
       "</div>"
      ],
      "text/plain": [
       "   COUNT(DISTINCT item_id)  character_id\n",
       "0                        3             1\n",
       "1                        3             2\n",
       "2                        2             3\n",
       "3                        4             4\n",
       "4                        4             5"
      ]
     },
     "execution_count": 32,
     "metadata": {},
     "output_type": "execute_result"
    }
   ],
   "source": [
    "#assign to DataFrame\n",
    "df=pd.DataFrame(data=result,columns=columns)\n",
    "print(df.shape)\n",
    "df.head()"
   ]
  },
  {
   "cell_type": "code",
   "execution_count": 35,
   "metadata": {},
   "outputs": [],
   "source": [
    "# Extra thing: Create a function\n",
    "def get_data(query,conn):\n",
    "    '''Function tog et data from SQLite DB'''\n",
    "    cursor=connection.cursur()\n",
    "    result=cursor.execute(query).fetchall()\n",
    "    \n",
    "    #get columns from curcor object\n",
    "    columns=list(map(lambda x: x[0],cursor.description))\n",
    "    \n",
    "    #Assign to DataFrame\n",
    "    \n",
    "    df=pd.DataFrame(data=result,columns=columns)\n",
    "    return df\n",
    "   "
   ]
  },
  {
   "cell_type": "code",
   "execution_count": 26,
   "metadata": {},
   "outputs": [
    {
     "name": "stdout",
     "output_type": "stream",
     "text": [
      "[(1, 3), (2, 3), (3, 2), (4, 4), (5, 4), (6, 1), (7, 5), (8, 3), (9, 4), (10, 4), (11, 3), (12, 3), (13, 4), (14, 4), (15, 4), (16, 1), (17, 5), (18, 5), (19, 3), (20, 1)]\n"
     ]
    }
   ],
   "source": [
    "# 5)How many Items does each character have? (Return first 20 rows)\n",
    "query_5='''\n",
    "SELECT \n",
    "  character_id,\n",
    "  COUNT(DISTINCT item_id)\n",
    "FROM charactercreator_character_inventory\n",
    "GROUP BY character_id\n",
    "LIMIT 20;\n",
    "\n",
    "'''\n",
    "result=cursor.execute(query_5).fetchall()\n",
    "print(result)"
   ]
  },
  {
   "cell_type": "code",
   "execution_count": 27,
   "metadata": {},
   "outputs": [
    {
     "name": "stdout",
     "output_type": "stream",
     "text": [
      "[(5, 140, 'Quos nihil quibusdam', 140, 1), (7, 166, 'Distinctio tene', 166, 1), (11, 158, 'Sit numqu', 158, 1), (20, 156, 'Expedita nam est in l', 156, 1), (22, 164, 'Inventore re', 164, 1), (23, 160, 'Totam delectus sed fugiat o', 160, 1), (26, 149, 'Repella', 149, 1), (27, 148, 'Corporis voluptas provi', 148, 1), (29, 157, 'Repelle', 157, 1), (30, 138, 'Corrupti sit at cum', 138, 1), (32, 142, 'Amet vel distinctio mo', 142, 1), (34, 160, 'Totam delectus sed fugiat o', 160, 1), (35, 165, 'Nemo expl', 165, 1), (36, 141, 'Sit quidem tempora doloribus r', 141, 1), (37, 169, 'Repudiandae molestias be', 169, 1), (38, 146, 'Sequi nesciunt', 146, 1), (39, 150, 'Culpa cumque quo vel', 150, 1), (40, 147, 'Facere neque qu', 147, 1), (41, 168, 'Officiis illo cum acc', 168, 1), (47, 161, 'Doloremq', 161, 1)]\n"
     ]
    }
   ],
   "source": [
    "# 6)How many Weapons does each character have? (Return first 20 rows)\n",
    "\n",
    "query_6='''\n",
    "SELECT \n",
    "  charactercreator_character_inventory.character_id,\n",
    "  armory_item.item_id,\n",
    "  armory_item.name,\n",
    "  armory_weapon.item_ptr_id,\n",
    "  COUNT(DISTINCT armory_weapon.power)\n",
    "FROM charactercreator_character_inventory\n",
    "INNER JOIN armory_item ON charactercreator_character_inventory.item_id=armory_item.item_id\n",
    "INNER JOIN armory_weapon ON armory_item.item_id=armory_weapon.item_ptr_id\n",
    "GROUP BY character_id\n",
    "LIMIT 20;\n",
    "\n",
    "\n",
    "'''\n",
    "result=cursor.execute(query_6).fetchall()\n",
    "print(result)"
   ]
  },
  {
   "cell_type": "code",
   "execution_count": 37,
   "metadata": {},
   "outputs": [
    {
     "name": "stdout",
     "output_type": "stream",
     "text": [
      "[(1, 3), (2, 3), (3, 2), (4, 4), (5, 4), (6, 1), (7, 5), (8, 3), (9, 4), (10, 4), (11, 3), (12, 3), (13, 4), (14, 4), (15, 4), (16, 1), (17, 5), (18, 5), (19, 3), (20, 1), (21, 4), (22, 3), (23, 3), (24, 1), (25, 2), (26, 2), (27, 5), (28, 1), (29, 4), (30, 4), (31, 3), (32, 2), (33, 2), (34, 4), (35, 5), (36, 5), (37, 5), (38, 5), (39, 3), (40, 3), (41, 2), (42, 3), (43, 1), (44, 1), (45, 4), (46, 1), (47, 4), (48, 4), (49, 4), (50, 1), (51, 3), (52, 2), (53, 5), (54, 1), (55, 4), (56, 1), (57, 3), (58, 4), (59, 4), (60, 4), (61, 2), (62, 1), (63, 5), (64, 3), (65, 5), (66, 5), (67, 1), (68, 4), (69, 3), (70, 3), (71, 3), (72, 1), (73, 1), (74, 2), (75, 1), (76, 1), (77, 4), (78, 3), (79, 1), (80, 3), (81, 5), (82, 4), (83, 3), (84, 4), (85, 5), (86, 5), (87, 1), (88, 4), (89, 2), (90, 2), (91, 5), (92, 5), (93, 4), (94, 4), (95, 5), (96, 5), (97, 3), (98, 2), (99, 1), (100, 5), (101, 5), (102, 3), (103, 5), (104, 5), (105, 3), (106, 4), (107, 1), (108, 4), (109, 1), (110, 1), (111, 1), (112, 2), (113, 2), (114, 5), (115, 5), (116, 1), (117, 4), (118, 5), (119, 5), (120, 3), (121, 3), (122, 2), (123, 3), (124, 1), (125, 3), (126, 1), (127, 3), (128, 3), (129, 5), (130, 1), (131, 3), (132, 4), (133, 3), (134, 4), (135, 5), (136, 4), (137, 3), (138, 3), (139, 5), (140, 3), (141, 1), (142, 5), (143, 2), (144, 1), (145, 4), (146, 4), (147, 1), (148, 4), (149, 3), (150, 3), (151, 3), (152, 3), (153, 4), (154, 3), (155, 4), (156, 5), (157, 1), (158, 1), (159, 3), (160, 5), (161, 2), (162, 2), (163, 3), (164, 1), (165, 5), (166, 4), (167, 2), (168, 1), (169, 1), (170, 4), (171, 4), (172, 2), (173, 2), (174, 2), (175, 3), (176, 3), (177, 2), (178, 2), (179, 2), (180, 1), (181, 5), (182, 1), (183, 4), (184, 4), (185, 4), (186, 2), (187, 1), (188, 2), (189, 1), (190, 4), (191, 3), (192, 2), (193, 4), (194, 5), (195, 1), (196, 4), (197, 5), (198, 5), (199, 3), (200, 1), (201, 5), (202, 1), (203, 1), (204, 1), (205, 2), (206, 5), (207, 1), (208, 2), (209, 1), (210, 3), (211, 1), (212, 2), (213, 2), (214, 1), (215, 1), (216, 3), (217, 3), (218, 2), (219, 1), (220, 4), (221, 4), (222, 2), (223, 2), (224, 1), (225, 3), (226, 2), (227, 4), (228, 2), (229, 3), (230, 1), (231, 3), (232, 4), (233, 5), (234, 1), (235, 5), (236, 1), (237, 1), (238, 5), (239, 3), (240, 3), (241, 3), (242, 1), (243, 3), (244, 4), (245, 5), (246, 3), (247, 5), (248, 1), (249, 4), (250, 4), (251, 5), (252, 2), (253, 2), (254, 1), (255, 2), (256, 2), (257, 3), (258, 4), (259, 5), (260, 4), (261, 5), (262, 4), (263, 4), (264, 5), (265, 3), (266, 5), (267, 4), (268, 1), (269, 1), (270, 1), (271, 2), (272, 2), (273, 3), (274, 3), (275, 2), (276, 1), (277, 1), (278, 1), (279, 2), (280, 5), (281, 5), (282, 4), (283, 4), (284, 1), (285, 5), (286, 1), (287, 5), (288, 3), (289, 5), (290, 5), (291, 4), (292, 2), (293, 2), (294, 5), (295, 2), (296, 3), (297, 4), (298, 2), (299, 3), (300, 1), (301, 2), (302, 5)]\n"
     ]
    }
   ],
   "source": [
    "# 7)On average, how many Items does each Character have?\n",
    "query_7='''\n",
    "SELECT\n",
    "  character_id,\n",
    "  COUNT(DISTINCT item_id)\n",
    "FROM charactercreator_character_inventory\n",
    "GROUP BY character_id;\n",
    "'''\n",
    "result=cursor.execute(query_7).fetchall()\n",
    "print(result)"
   ]
  },
  {
   "cell_type": "code",
   "execution_count": null,
   "metadata": {},
   "outputs": [],
   "source": []
  }
 ],
 "metadata": {
  "kernelspec": {
   "display_name": "Python 3",
   "language": "python",
   "name": "python3"
  },
  "language_info": {
   "codemirror_mode": {
    "name": "ipython",
    "version": 3
   },
   "file_extension": ".py",
   "mimetype": "text/x-python",
   "name": "python",
   "nbconvert_exporter": "python",
   "pygments_lexer": "ipython3",
   "version": "3.8.3"
  }
 },
 "nbformat": 4,
 "nbformat_minor": 4
}
